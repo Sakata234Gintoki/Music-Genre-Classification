{
 "cells": [
  {
   "cell_type": "code",
   "execution_count": 1,
   "id": "a6b16706",
   "metadata": {},
   "outputs": [
    {
     "name": "stdout",
     "output_type": "stream",
     "text": [
      "Collecting python_speech_features\n",
      "  Downloading python_speech_features-0.6.tar.gz (5.6 kB)\n",
      "Building wheels for collected packages: python-speech-features\n",
      "  Building wheel for python-speech-features (setup.py): started\n",
      "  Building wheel for python-speech-features (setup.py): finished with status 'done'\n",
      "  Created wheel for python-speech-features: filename=python_speech_features-0.6-py3-none-any.whl size=5888 sha256=80c7b51b1c0f1324916e28270b047c7cb9a76d6d6522099003468930fe8d56f3\n",
      "  Stored in directory: c:\\users\\dell\\appdata\\local\\pip\\cache\\wheels\\09\\a1\\04\\08e2688d2562d8f9ff89e77c6ddfbf7268e07dae1a6f22455e\n",
      "Successfully built python-speech-features\n",
      "Installing collected packages: python-speech-features\n",
      "Successfully installed python-speech-features-0.6\n",
      "Requirement already satisfied: scipy in c:\\users\\dell\\anaconda3\\lib\\site-packages (1.7.3)\n",
      "Requirement already satisfied: numpy<1.23.0,>=1.16.5 in c:\\users\\dell\\anaconda3\\lib\\site-packages (from scipy) (1.21.5)\n"
     ]
    }
   ],
   "source": [
    "!pip install python_speech_features\n",
    "!pip install scipy"
   ]
  },
  {
   "cell_type": "markdown",
   "id": "2e1ea209",
   "metadata": {},
   "source": [
    "# Importing relevant libraries"
   ]
  },
  {
   "cell_type": "code",
   "execution_count": 31,
   "id": "178ab071",
   "metadata": {},
   "outputs": [],
   "source": [
    "import numpy as np\n",
    "import pandas as pd\n",
    "import scipy.io.wavfile as wav\n",
    "from python_speech_features import mfcc\n",
    "from tempfile import TemporaryFile\n",
    "import os\n",
    "import math\n",
    "import pickle\n",
    "import random\n",
    "import operator"
   ]
  },
  {
   "cell_type": "code",
   "execution_count": 32,
   "id": "e4d8acc8",
   "metadata": {},
   "outputs": [],
   "source": [
    "# define a function to get distance between feature vectors and find neighbours\n",
    "def getNeighbours(trainingset, instance, k):\n",
    "    distances = []\n",
    "    for x in range(len(trainingset)):\n",
    "        dist = distance(trainingset[x], instance,k) + distance(instance,trainingset[x],k)\n",
    "        distances.append((trainingset[x][2],dist))\n",
    "    distances.sort(key=operator.itemgetter(1))\n",
    "    neighbours = []\n",
    "    for x in range(k):\n",
    "        neighbours.append(distances[x][0])\n",
    "    return neighbours"
   ]
  },
  {
   "cell_type": "code",
   "execution_count": 33,
   "id": "1e7347e5",
   "metadata": {},
   "outputs": [],
   "source": [
    "# Function to identify nearest neighbours\n",
    "def nearClass(neighbours):\n",
    "    classVote = {}\n",
    "    for x in range(len(neighbours)):\n",
    "        response = neighbours[x]\n",
    "        if response in classVote:\n",
    "            classVote[response] += 1\n",
    "        else:\n",
    "            classVote[response] = 1\n",
    "            \n",
    "    sorter = sorted(classVote.items(), key=operator.itemgetter(1), reverse=True)\n",
    "    return sorter[0][0]"
   ]
  },
  {
   "cell_type": "code",
   "execution_count": 34,
   "id": "a655dc79",
   "metadata": {},
   "outputs": [],
   "source": [
    "def getAccuracy(testset,prediction):\n",
    "    correct = 0\n",
    "    for x in range(len(testset)):\n",
    "        if testset[x][-1] == prediction[x]:\n",
    "            correct += 1\n",
    "    return 1.0 * correct / len(testset)"
   ]
  },
  {
   "cell_type": "code",
   "execution_count": 35,
   "id": "9cc5eda3",
   "metadata": {},
   "outputs": [],
   "source": [
    "directory = 'C:\\\\Users\\\\DELL\\\\Downloads\\\\archive\\\\Data\\\\genres_original'\n",
    "f = open('mydataset.dat',\"wb\")\n",
    "i  = 0\n",
    "for folder in os.listdir(directory):\n",
    "    i += 1\n",
    "    if i == 11:\n",
    "        break\n",
    "    for file in os.listdir(directory+\"/\"+folder):\n",
    "        try:\n",
    "            (rate,sig) = wav.read(directory+\"/\"+folder+\"/\"+file)\n",
    "            mfcc_feat = mfcc(sig,rate,winlen = 0.020, appendEnergy = False)\n",
    "            covariance = np.cov(np.matrix.transpose(mfcc_feat))\n",
    "            mean_matrix = mfcc_feat.mean(0)\n",
    "            feature = (mean_matrix,covariance,i)\n",
    "            pickle.dump(feature,f)\n",
    "        except Exception as e:\n",
    "            print(\"Got an exception:\",e,'in folder:',folder,'filename:',file)\n",
    "f.close()"
   ]
  },
  {
   "cell_type": "code",
   "execution_count": 36,
   "id": "2ca96cce",
   "metadata": {},
   "outputs": [
    {
     "data": {
      "text/plain": [
       "<function __main__.loadDataset(filename, split, trset, teset)>"
      ]
     },
     "execution_count": 36,
     "metadata": {},
     "output_type": "execute_result"
    }
   ],
   "source": [
    "dataset = []\n",
    "def loadDataset(filename,split,trset,teset):\n",
    "    with open('mydataset.dat','rb') as f:\n",
    "        while True:\n",
    "            try:\n",
    "                dataset.append(pickle.load(f))\n",
    "            except EOFError:\n",
    "                f.close()\n",
    "                break\n",
    "    for x in range(len(dataset)):\n",
    "        if random.random() < split:\n",
    "            trset.append(dataset[x])\n",
    "        else:\n",
    "            teset.append(dataset[x])\n",
    "            \n",
    "trainingSet = []\n",
    "testSet = []\n",
    "loadDataset('mydataset.dat',0.68,trainingSet,testSet)\n",
    "loadDataset"
   ]
  },
  {
   "cell_type": "code",
   "execution_count": 43,
   "id": "e9b5829a",
   "metadata": {},
   "outputs": [],
   "source": [
    "def distance(instance1, instance2, k):\n",
    "    distance = 0\n",
    "    mm1 = instance1[0]\n",
    "    cm1 = instance1[1]\n",
    "    mm2 = instance2[0]\n",
    "    cm2 = instance2[1]\n",
    "    distance = np.trace(np.dot(np.linalg.inv(cm2),cm1))\n",
    "    distance += (np.dot(np.dot((mm2 - mm1).transpose(),np.linalg.inv(cm2)),mm2 - mm1))\n",
    "    distance += np.log(np.linalg.det(cm2)) - np.log(np.linalg.det(cm1))\n",
    "    distance -= k\n",
    "    return distance"
   ]
  },
  {
   "cell_type": "code",
   "execution_count": 46,
   "id": "27c7222b",
   "metadata": {},
   "outputs": [
    {
     "data": {
      "text/plain": [
       "0.6838905775075987"
      ]
     },
     "execution_count": 46,
     "metadata": {},
     "output_type": "execute_result"
    }
   ],
   "source": [
    "# Make the prediction using KNN(K-nearest)\n",
    "length = len(testSet)\n",
    "predictions = []\n",
    "for x in range(length):\n",
    "    predictions.append(nearClass(getNeighbours(trainingSet, testSet[x], 5)))\n",
    "    \n",
    "accuracy1 = getAccuracy(testSet,predictions)\n",
    "accuracy1"
   ]
  },
  {
   "cell_type": "code",
   "execution_count": 41,
   "id": "12131fc3",
   "metadata": {},
   "outputs": [],
   "source": [
    "from collections import defaultdict\n",
    "results = defaultdict(int)\n",
    "directory = 'C:\\\\Users\\\\DELL\\\\Downloads\\\\archive\\\\Data\\\\genres_original'\n",
    "\n",
    "i = 1\n",
    "for folder in os.listdir(directory):\n",
    "    results[i] = folder\n",
    "    i += 1"
   ]
  },
  {
   "cell_type": "code",
   "execution_count": 45,
   "id": "1ac941ba",
   "metadata": {},
   "outputs": [
    {
     "data": {
      "text/plain": [
       "'rock'"
      ]
     },
     "execution_count": 45,
     "metadata": {},
     "output_type": "execute_result"
    }
   ],
   "source": [
    "pred = nearClass(getNeighbours(dataset,feature,5))\n",
    "results[pred]"
   ]
  },
  {
   "cell_type": "code",
   "execution_count": null,
   "id": "943c3753",
   "metadata": {},
   "outputs": [],
   "source": []
  }
 ],
 "metadata": {
  "kernelspec": {
   "display_name": "Python 3 (ipykernel)",
   "language": "python",
   "name": "python3"
  },
  "language_info": {
   "codemirror_mode": {
    "name": "ipython",
    "version": 3
   },
   "file_extension": ".py",
   "mimetype": "text/x-python",
   "name": "python",
   "nbconvert_exporter": "python",
   "pygments_lexer": "ipython3",
   "version": "3.9.12"
  }
 },
 "nbformat": 4,
 "nbformat_minor": 5
}
